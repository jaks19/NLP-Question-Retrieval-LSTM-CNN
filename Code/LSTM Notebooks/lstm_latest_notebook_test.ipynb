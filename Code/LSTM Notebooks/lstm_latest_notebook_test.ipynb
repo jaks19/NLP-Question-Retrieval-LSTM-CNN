{
 "cells": [
  {
   "cell_type": "code",
   "execution_count": 1,
   "metadata": {},
   "outputs": [
    {
     "name": "stdout",
     "output_type": "stream",
     "text": [
      "MRR score on dev set: 0.6324404761904762\n"
     ]
    }
   ],
   "source": [
    "from preprocess import *\n",
    "from scoring_metrics import *\n",
    "from lstm_utils import *\n",
    "\n",
    "from torch.nn.modules.distance import CosineSimilarity\n",
    "\n",
    "import time\n",
    "\n",
    "\n",
    "''' Data Prep '''\n",
    "dev = True\n",
    "testing_data = devTest_id_to_similar_different(dev)\n",
    "testingQuestionIds = list(testing_data.keys())[:10]\n",
    "word2vec = get_words_and_embeddings()\n",
    "id2Data = questionID_to_questionData_truncate(100)\n",
    "\n",
    "\n",
    "''' Model (Specify pickled model name)'''\n",
    "lstm = torch.load('../Pickle/LSTM_m2d1l3epoch1.pt')\n",
    "lstm.eval()\n",
    "\n",
    "\n",
    "'''Begin testing'''\n",
    "sequence_ids, p_pluses_indices_dict = organize_test_ids(testingQuestionIds, testing_data)\n",
    "\n",
    "candidates_qs_tuples_matrix = construct_qs_matrix_testing(sequence_ids, lstm, word2vec, id2Data, candidates=True)\n",
    "main_qs_tuples_matrix = construct_qs_matrix_testing(testingQuestionIds, lstm, word2vec, id2Data, candidates=False)\n",
    "\n",
    "similarity_matrix = torch.nn.functional.cosine_similarity(candidates_qs_tuples_matrix, main_qs_tuples_matrix, dim=2, eps=1e-08)\n",
    "MRR_score = get_MRR_score(similarity_matrix, p_pluses_indices_dict)\n",
    "\n",
    "if dev: print(\"MRR score on dev set:\", MRR_score)\n",
    "else: print(\"MRR score on test set:\", MRR_score)"
   ]
  }
 ],
 "metadata": {
  "kernelspec": {
   "display_name": "Python 3",
   "language": "python",
   "name": "python3"
  },
  "language_info": {
   "codemirror_mode": {
    "name": "ipython",
    "version": 3
   },
   "file_extension": ".py",
   "mimetype": "text/x-python",
   "name": "python",
   "nbconvert_exporter": "python",
   "pygments_lexer": "ipython3",
   "version": "3.6.3"
  }
 },
 "nbformat": 4,
 "nbformat_minor": 2
}
